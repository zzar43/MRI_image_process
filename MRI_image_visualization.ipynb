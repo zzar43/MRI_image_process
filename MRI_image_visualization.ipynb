{
 "cells": [
  {
   "cell_type": "markdown",
   "metadata": {},
   "source": [
    "# Visualization of the MRI data\n",
    "\n",
    "## NIfTI-1 Data Format\n",
    "\n",
    "- Adapted from the widely used ANALYZE™ 7.5 file format. The most commonly-used format for multi-dimensional neuroimaging data (2012)\n",
    "- Most packages also support reading gzip-compressed NIfTI files, which should have the extension .NII.gz.\n",
    "- Generally containing at least 3-dimensional data: voxels, or pixels with a width, height, and depth. Can up to 7-dimensional.\n",
    "\n",
    "References:\n",
    "- Documentation: https://nifti.nimh.nih.gov/nifti-1/\n",
    "- Python package: https://nipy.org/nibabel/ (use pip instead of conda)\n",
    "\n",
    "<!-- 单位是什么？？ -->"
   ]
  },
  {
   "cell_type": "code",
   "execution_count": null,
   "metadata": {},
   "outputs": [],
   "source": [
    "import numpy as np\n",
    "import os\n",
    "import matplotlib.pyplot as plt\n",
    "from glob import glob\n",
    "import nibabel as nib"
   ]
  },
  {
   "cell_type": "markdown",
   "metadata": {},
   "source": [
    "### Example 1: structural T1 data\n",
    "- downloaded by Qing\n",
    "- data size: 2.9 MB\n",
    "- data shape: (169, 212, 177)"
   ]
  },
  {
   "cell_type": "code",
   "execution_count": null,
   "metadata": {},
   "outputs": [],
   "source": [
    "# prepare data path\n",
    "# BASE_IMG_PATH = os.path.join(os.getcwd(), 'data')\n",
    "BASE_IMG_PATH = '/Users/lida/Desktop/MRI_image_study/data'\n",
    "all_images = glob(os.path.join(BASE_IMG_PATH,'T1_brain*'))\n",
    "\n",
    "# read test image and corresponding mask\n",
    "header = nib.load(all_images[0]).header\n",
    "test_image = nib.load(all_images[0]).get_fdata()\n",
    "test_mask = nib.load(all_images[1]).get_fdata()\n",
    "\n",
    "# print header and test_image size\n",
    "print(header)\n",
    "print('\\n\\ntest_image size: ',test_image.shape)"
   ]
  },
  {
   "cell_type": "code",
   "execution_count": null,
   "metadata": {},
   "outputs": [],
   "source": [
    "# print central section of the cubic data\n",
    "fig, ((ax1, ax2, ax3), (ax4, ax5, ax6)) = plt.subplots(2,3, figsize = (15, 10))\n",
    "cmap_name = 'viridis'\n",
    "ax1.imshow(test_image[test_image.shape[0]//2,:,:], cmap=cmap_name)\n",
    "ax1.set_title('Image')\n",
    "ax2.imshow(test_image[:,test_image.shape[1]//2,:], cmap=cmap_name)\n",
    "ax2.set_title('Image')\n",
    "ax3.imshow(test_image[:,:,test_image.shape[2]//2], cmap=cmap_name)\n",
    "ax3.set_title('Image')\n",
    "ax4.imshow(test_mask[test_image.shape[0]//2,:,:], cmap=cmap_name)\n",
    "ax4.set_title('Mask')\n",
    "ax5.imshow(test_mask[:,test_image.shape[1]//2,:], cmap=cmap_name)\n",
    "ax5.set_title('Mask')\n",
    "ax6.imshow(test_mask[:,:,test_image.shape[2]//2], cmap=cmap_name)\n",
    "ax6.set_title('Mask');"
   ]
  },
  {
   "cell_type": "code",
   "execution_count": null,
   "metadata": {},
   "outputs": [],
   "source": [
    "# visulization through montage function\n",
    "from skimage.util import montage\n",
    "fig, ax1 = plt.subplots(1, 1, figsize = (15, 15))\n",
    "ax1.imshow(montage(test_image), cmap ='viridis')"
   ]
  },
  {
   "cell_type": "markdown",
   "metadata": {},
   "source": [
    "### Example 2: tfMRI data:\n",
    "- downloaded by Qing\n",
    "- downloaded folder size: 467.8 MB.\n",
    "- data size: 253.5 MB. \n",
    "- image shape: (88, 88, 64, 332)"
   ]
  },
  {
   "cell_type": "code",
   "execution_count": null,
   "metadata": {},
   "outputs": [],
   "source": [
    "# tfMRI: large data with 253.5 MB\n",
    "\n",
    "filepath = '/Users/lida/UKBK_Images/20249_2_0/fMRI/tfMRI.nii.gz'\n",
    "test_image = nib.load(filepath).get_fdata()"
   ]
  },
  {
   "cell_type": "code",
   "execution_count": null,
   "metadata": {},
   "outputs": [],
   "source": [
    "fig, axs = plt.subplots(2,3, figsize = (15, 10))\n",
    "cmap_name = 'gray'\n",
    "axs = axs.ravel()\n",
    "for ind in range(6):\n",
    "    img = test_image[:,:,test_image.shape[2]//2,50*ind]\n",
    "    img = img.transpose()\n",
    "    axs[ind].imshow(img)\n",
    "    axs[ind].set_title('tfMRI' + ' ' + str(50*ind))"
   ]
  },
  {
   "cell_type": "code",
   "execution_count": null,
   "metadata": {},
   "outputs": [],
   "source": [
    "# tfMRI: small file with 839 KB\n",
    "\n",
    "filepath = '/Users/lida/UKBK_Images/20249_2_0/fMRI/tfMRI_SBREF.nii.gz'\n",
    "test_image = nib.load(filepath).get_fdata()"
   ]
  },
  {
   "cell_type": "code",
   "execution_count": null,
   "metadata": {},
   "outputs": [],
   "source": [
    "img = test_image[:,:,test_image.shape[2]//2]\n",
    "img = img.transpose()\n",
    "plt.imshow(img)\n"
   ]
  },
  {
   "cell_type": "markdown",
   "metadata": {},
   "source": [
    "## DICOM\n",
    "\n",
    "Demo data: UK biobank scout images for brain scans - DICOM (https://biobank.ndph.ox.ac.uk/ukb/field.cgi?id=20215)\n",
    "\n",
    "References:\n",
    "- Website: https://www.dicomstandard.org/about\n",
    "- Python package: https://pydicom.github.io/pydicom/stable/index.html"
   ]
  },
  {
   "cell_type": "code",
   "execution_count": null,
   "metadata": {},
   "outputs": [],
   "source": [
    "from pydicom.data import get_testdata_file\n",
    "from pydicom import dcmread"
   ]
  },
  {
   "cell_type": "markdown",
   "metadata": {},
   "source": [
    "### Example 3:\n",
    "- example provided by UK Biobank\n",
    "- folder size: 22.8 MB"
   ]
  },
  {
   "cell_type": "code",
   "execution_count": null,
   "metadata": {},
   "outputs": [],
   "source": [
    "import pandas as pd \n",
    "BASE_IMG_PATH = '/Users/lida/UKB_demo_data/eg_brain_scout'\n",
    "fpath = BASE_IMG_PATH + '/manifest.cvs'\n",
    "data = pd.read_csv(fpath)\n",
    "data.head()"
   ]
  },
  {
   "cell_type": "code",
   "execution_count": null,
   "metadata": {},
   "outputs": [],
   "source": [
    "# set path\n",
    "fpath1 = BASE_IMG_PATH + '/' + data['filename'][0]\n",
    "fpath2 = BASE_IMG_PATH + '/' +  data['filename'][1]\n",
    "fpath3 = BASE_IMG_PATH + '/' +  data['filename'][2]\n",
    "fpath4 = BASE_IMG_PATH + '/' +  data['filename'][3]\n",
    "fpath5 = BASE_IMG_PATH + '/' +  data['filename'][4]\n",
    "fpath6 = BASE_IMG_PATH + '/' +  data['filename'][5]\n",
    "\n",
    "# read data\n",
    "ds1 = dcmread(fpath1)\n",
    "ds2 = dcmread(fpath2)\n",
    "ds3 = dcmread(fpath3)\n",
    "ds4 = dcmread(fpath4)\n",
    "ds5 = dcmread(fpath5)\n",
    "ds6 = dcmread(fpath6)\n",
    "\n",
    "# show the header of DICOM file\n",
    "print(ds1)"
   ]
  },
  {
   "cell_type": "code",
   "execution_count": null,
   "metadata": {},
   "outputs": [],
   "source": [
    "# print\n",
    "fig, ((ax1, ax2, ax3), (ax4, ax5, ax6)) = plt.subplots(2,3, figsize = (15, 10))\n",
    "cmap_name = 'viridis'\n",
    "ax1.imshow(ds1.pixel_array, cmap=cmap_name)\n",
    "ax1.set_title('Image 1')\n",
    "ax2.imshow(ds2.pixel_array, cmap=cmap_name)\n",
    "ax2.set_title('Image 2')\n",
    "ax3.imshow(ds3.pixel_array, cmap=cmap_name)\n",
    "ax3.set_title('Image 3')\n",
    "ax4.imshow(ds4.pixel_array, cmap=cmap_name)\n",
    "ax4.set_title('Image 4')\n",
    "ax5.imshow(ds5.pixel_array, cmap=cmap_name)\n",
    "ax5.set_title('Image 5')\n",
    "ax6.imshow(ds6.pixel_array, cmap=cmap_name)\n",
    "ax6.set_title('Image 6');"
   ]
  },
  {
   "cell_type": "code",
   "execution_count": null,
   "metadata": {},
   "outputs": [],
   "source": []
  },
  {
   "cell_type": "code",
   "execution_count": null,
   "metadata": {},
   "outputs": [],
   "source": []
  }
 ],
 "metadata": {
  "kernelspec": {
   "display_name": "Python 3 (ipykernel)",
   "language": "python",
   "name": "python3"
  },
  "language_info": {
   "codemirror_mode": {
    "name": "ipython",
    "version": 3
   },
   "file_extension": ".py",
   "mimetype": "text/x-python",
   "name": "python",
   "nbconvert_exporter": "python",
   "pygments_lexer": "ipython3",
   "version": "3.8.12"
  }
 },
 "nbformat": 4,
 "nbformat_minor": 4
}

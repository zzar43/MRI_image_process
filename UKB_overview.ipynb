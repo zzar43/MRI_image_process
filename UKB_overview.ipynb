{
 "cells": [
  {
   "cell_type": "markdown",
   "id": "a9524974-3048-403c-8ecd-6c110f72359a",
   "metadata": {},
   "source": [
    "# An Overview of UK Biobank Data\n",
    "\n",
    "UKB image processing and quality control paper: https://www.sciencedirect.com/science/article/pii/S1053811917308613?via%3Dihub\n",
    "\n",
    "For MRI sequences introduction, please refer to wiki page: \n",
    "- https://en.wikipedia.org/wiki/Magnetic_resonance_imaging\n",
    "- https://en.wikipedia.org/wiki/MRI_sequence#Neuromelanin_imaging\n"
   ]
  },
  {
   "cell_type": "code",
   "execution_count": null,
   "id": "f449e51b-1e9c-4ac4-b7c0-8e5a974a216b",
   "metadata": {},
   "outputs": [],
   "source": [
    "import numpy as np\n",
    "import matplotlib.pyplot as plt\n",
    "import nibabel as nib\n",
    "\n",
    "BASE_IMG_PATH = '/Users/lida/UKB_demo_data/' + 'UKBiobank_BrainImaging_GroupMeanTemplates'"
   ]
  },
  {
   "cell_type": "markdown",
   "id": "9dda1b6b-e528-4aae-990c-c4106fb0880d",
   "metadata": {},
   "source": [
    "# UKBiobank_BrainImaging_GroupMeanTemplates\n",
    "\n",
    "- example provided by UK biobank\n",
    "- 42 image files, 1 folder\n",
    "- total data size: 1.12 GB\n",
    "- single image size: from 3 KB to 87 MB"
   ]
  },
  {
   "cell_type": "markdown",
   "id": "0ad1d758-6469-48bb-955f-660d6a1b311f",
   "metadata": {},
   "source": [
    "## Structural MRI:\n",
    "T1, T1_preunbiased, T2_FLAIR, T2_FLAIR_preunbiased\n",
    "\n",
    "T2-FLAIR stands for T2-weighted-Fluid-Attenuated Inversion Recovery. "
   ]
  },
  {
   "cell_type": "code",
   "execution_count": null,
   "id": "ee924ec4-8a38-4e12-b009-349bd5a380fb",
   "metadata": {},
   "outputs": [],
   "source": [
    "filename = ['T1', 'T1_preunbiased', 'T2_FLAIR', 'T2_FLAIR_preunbiased']\n",
    "\n",
    "fig, axs = plt.subplots(2,2, figsize = (10, 10))\n",
    "cmap_name = 'gray'\n",
    "axs = axs.ravel()\n",
    "for ind in range(4):\n",
    "    filepath = BASE_IMG_PATH + '/' + filename[ind] + '.nii.gz'\n",
    "    img = nib.load(filepath).get_fdata()\n",
    "    img = img[:,:,img.shape[2]//2].transpose()\n",
    "    axs[ind].imshow(img, cmap=cmap_name)\n",
    "    axs[ind].set_title(filename[ind])"
   ]
  },
  {
   "cell_type": "markdown",
   "id": "8f70febb-973f-46a3-b89a-a46b57b8f86d",
   "metadata": {},
   "source": [
    "## RESTING-STATE fMRI:\n",
    "\n",
    "Functional MRI (fMRI) measures signal changes in the brain that are due to changing neural activity.\n",
    "It is used to understand how different parts of the brain respond to external stimuli or passive activity in a resting state, and has applications in behavioral and cognitive research, and in planning neurosurgery of eloquent brain areas.\n",
    "\n",
    "MNI152 standard-space group-ICA maps at two dimensionalities (detail of parcellation):\n",
    "- rfMRI_ICA_d25.nii.gz\n",
    "- rfMRI_ICA_d100.nii.gz\n",
    "    \n",
    "rfMRI_ICA_d25, rfMRI_ICA_d100"
   ]
  },
  {
   "cell_type": "code",
   "execution_count": null,
   "id": "c7b0a172-d7f5-464c-a4dc-88205d9ae1bc",
   "metadata": {},
   "outputs": [],
   "source": [
    "filename = ['rfMRI_ICA_d25', 'rfMRI_ICA_d100']\n",
    "parcellation = [5, 10, 15, 10, 40, 80]\n",
    "\n",
    "fig, axs = plt.subplots(2,3, figsize = (15, 10))\n",
    "cmap_name = 'gray'\n",
    "axs = axs.ravel()\n",
    "\n",
    "for ind_name in range(2):\n",
    "    filepath = BASE_IMG_PATH + '/' + filename[ind_name] + '.nii.gz'\n",
    "    img = nib.load(filepath).get_fdata()\n",
    "    for ind_par in range(3):\n",
    "        ind = ind_name * 3 + ind_par\n",
    "        img_2d = img[:,:,:,parcellation[ind]]\n",
    "        img_2d = img_2d[:,:,img_2d.shape[2]//2].transpose()\n",
    "        axs[ind].imshow(img_2d, cmap=cmap_name)\n",
    "        axs[ind].set_title(filename[ind_name] + ' parcellation ' + str(parcellation[ind]))"
   ]
  },
  {
   "cell_type": "markdown",
   "id": "fef1e4f3-548c-4c3c-b0a7-5870bc98bb36",
   "metadata": {},
   "source": [
    "## TASK fMRI:\n",
    "\n",
    "Group-average activation contrasts (fixed-effect z-statistics):\n",
    "- tfMRI_zstat1_FE.nii.gz (\"Shapes\")\n",
    "- tfMRI_zstat2_FE.nii.gz (\"Faces\")\n",
    "- tfMRI_zstat5_FE.nii.gz (\"Faces-Shapes\")\n",
    "\n",
    "Group-average-based ROI masks:\n",
    "- tfMRI_mask1.nii.gz  (\"Shapes\")\n",
    "- tfMRI_mask2.nii.gz  (\"Faces\")\n",
    "- tfMRI_mask5.nii.gz  (\"Faces-Shapes\")\n",
    "- tfMRI_mask5a.nii.gz (\"Faces-Shapes\" in amygdala)"
   ]
  },
  {
   "cell_type": "code",
   "execution_count": null,
   "id": "2feaa9c2-1f90-484b-8d2c-8906acebfc3a",
   "metadata": {},
   "outputs": [],
   "source": [
    "filename = ['tfMRI_zstat1_FE', 'tfMRI_zstat2_FE', 'tfMRI_zstat5_FE', 'tfMRI_mask1', 'tfMRI_mask2', 'tfMRI_mask5', 'tfMRI_mask5a']\n",
    "\n",
    "fig, axs = plt.subplots(3,3, figsize = (15, 15))\n",
    "cmap_name = 'gray'\n",
    "axs = axs.ravel()\n",
    "\n",
    "for ind in range(7):\n",
    "    filepath = BASE_IMG_PATH + '/' + filename[ind] + '.nii.gz'\n",
    "    img = nib.load(filepath).get_fdata()\n",
    "    img = img[:,:,img.shape[2]//2].transpose()\n",
    "    axs[ind].imshow(img, cmap=cmap_name)\n",
    "    axs[ind].set_title(filename[ind])"
   ]
  },
  {
   "cell_type": "markdown",
   "id": "9032acf7-d511-4c21-8c95-8cd1739a37e1",
   "metadata": {},
   "source": [
    "## DIFFUSION MRI\n",
    "\n",
    "Diffusion MRI measures the diffusion of water molecules in biological tissues.\n",
    "Clinically, diffusion MRI is useful for the diagnoses of conditions (e.g., stroke) or neurological disorders (e.g., multiple sclerosis), and helps better understand the connectivity of white matter axons in the central nervous system.\n",
    "\n",
    "Tensor fit\n",
    "- dti_FA.nii.gz = fractional anisotropy\n",
    "- dti_MD.nii.gz = mean diffusivity\n",
    "- dti_MO.nii.gz = tensor mode\n",
    "- dti_L1.nii.gz dti_L2.nii.gz dti_L3.nii.gz = tensor eigenvalues\n",
    "- dti_V1.nii.gz dti_V2.nii.gz dti_V3.nii.gz = tensor eigenvectors\n",
    "\n",
    "NODDI modelling\n",
    "- NODDI_ICVF.nii.gz  = intra-cellular volume fraction\n",
    "- NODDI_ISOVF.nii.gz = isotropic or free water volume fraction\n",
    "- NODDI_OD.nii.gz    = orientation dispersion index\n",
    "\n",
    "Probabilistic tractography - voxelwise modelling\n",
    "- dyads1.nii.gz dyads2.nii.gz dyads3.nii.gz = tract directions for fibre populations 1,2,3\n",
    "- dyads1_thr.nii.gz dyads2_thr.nii.gz dyads3_thr.nii.gz = dyads after thresholding according to volume fraction (likelihood of that tract being present)\n",
    "- dyads1_dispersion.nii.gz dyads2_dispersion.nii.gz dyads3_dispersion.nii.gz = uncertainties on tract directions\n",
    "- mean_f1samples.nii.gz mean_f2samples.nii.gz mean_f3samples.nii.gz = volume fractions of fibre populations 1,2,3 (\"strength\")\n",
    "- sum_f123samples.nii.gz = volume fraction sum across all 3 fibres\n",
    "\n",
    "Probabilistic tractography\n",
    "- tracts/* = AutoPtx tract outputs for 27 separate tracts\n",
    "- TractsSummed.nii.gz = summation across all 27 tracts"
   ]
  },
  {
   "cell_type": "code",
   "execution_count": null,
   "id": "f11c265c-488a-4acc-8f45-ed902a9fb9cf",
   "metadata": {},
   "outputs": [],
   "source": [
    "# Tensor fit\n",
    "filename = ['dti_FA', 'dti_MD', 'dti_MO', 'dti_L1', 'dti_L2', 'dti_L3', 'dti_V1', 'dti_V2', 'dti_V3']\n",
    "\n",
    "fig, axs = plt.subplots(3,3, figsize = (15, 15))\n",
    "cmap_name = 'gray'\n",
    "axs = axs.ravel()\n",
    "\n",
    "for ind in range(9):\n",
    "    filepath = BASE_IMG_PATH + '/' + filename[ind] + '.nii.gz'\n",
    "    img = nib.load(filepath).get_fdata()\n",
    "    if img.ndim > 3:\n",
    "        img = img[:,:,:,0]\n",
    "    img = img[:,:,img.shape[2]//2].transpose()\n",
    "    axs[ind].imshow(img, cmap=cmap_name)\n",
    "    axs[ind].set_title(filename[ind])"
   ]
  },
  {
   "cell_type": "code",
   "execution_count": null,
   "id": "d864299b-0355-4152-bc7a-7059b74ad805",
   "metadata": {},
   "outputs": [],
   "source": [
    "# NODDI modelling\n",
    "filename = ['NODDI_ICVF', 'NODDI_ISOVF', 'NODDI_OD']\n",
    "\n",
    "fig, axs = plt.subplots(1,3, figsize = (15, 5))\n",
    "cmap_name = 'gray'\n",
    "axs = axs.ravel()\n",
    "\n",
    "for ind in range(3):\n",
    "    filepath = BASE_IMG_PATH + '/' + filename[ind] + '.nii.gz'\n",
    "    img = nib.load(filepath).get_fdata()\n",
    "#     if img.ndim > 3:\n",
    "#         img = img[:,:,:,0]\n",
    "    img = img[:,:,img.shape[2]//2].transpose()\n",
    "    axs[ind].imshow(img, cmap=cmap_name)\n",
    "    axs[ind].set_title(filename[ind])"
   ]
  },
  {
   "cell_type": "code",
   "execution_count": null,
   "id": "b25508f3-7908-441c-9e87-4d0982edd104",
   "metadata": {},
   "outputs": [],
   "source": [
    "# Probabilistic tractography - voxelwise modelling\n",
    "filename = ['dyads1', 'dyads2', 'dyads3', 'dyads1_thr', 'dyads2_thr', 'dyads3_thr', 'dyads1_dispersion', 'dyads2_dispersion', 'dyads3_dispersion', 'mean_f1samples', 'mean_f2samples', 'mean_f3samples']\n",
    "\n",
    "fig, axs = plt.subplots(4,3, figsize = (15, 20))\n",
    "cmap_name = 'gray'\n",
    "axs = axs.ravel()\n",
    "\n",
    "for ind in range(12):\n",
    "    filepath = BASE_IMG_PATH + '/' + filename[ind] + '.nii.gz'\n",
    "    img = nib.load(filepath).get_fdata()\n",
    "    if img.ndim > 3:\n",
    "        img = img[:,:,:,1]\n",
    "    img = img[:,:,img.shape[2]//2].transpose()\n",
    "    axs[ind].imshow(img, cmap=cmap_name)\n",
    "    axs[ind].set_title(filename[ind])\n",
    "    "
   ]
  },
  {
   "cell_type": "code",
   "execution_count": null,
   "id": "8dbb16be-155f-4014-886f-57bc1d9dce95",
   "metadata": {},
   "outputs": [],
   "source": [
    "filename = ['sum_f123samples', 'TractsSummed']\n",
    "\n",
    "fig, axs = plt.subplots(1,2, figsize = (10, 5))\n",
    "cmap_name = 'gray'\n",
    "axs = axs.ravel()\n",
    "\n",
    "for ind in range(2):\n",
    "    filepath = BASE_IMG_PATH + '/' + filename[ind] + '.nii.gz'\n",
    "    img = nib.load(filepath).get_fdata()\n",
    "    if img.ndim > 3:\n",
    "        img = img[:,:,:,1]\n",
    "    img = img[:,:,img.shape[2]//2].transpose()\n",
    "    axs[ind].imshow(img, cmap=cmap_name)\n",
    "    axs[ind].set_title(filename[ind])\n",
    "    "
   ]
  },
  {
   "cell_type": "code",
   "execution_count": null,
   "id": "c1fbed16-c9b7-4c7c-b136-2553872ed17f",
   "metadata": {},
   "outputs": [],
   "source": []
  }
 ],
 "metadata": {
  "kernelspec": {
   "display_name": "Python 3",
   "language": "python",
   "name": "python3"
  },
  "language_info": {
   "codemirror_mode": {
    "name": "ipython",
    "version": 3
   },
   "file_extension": ".py",
   "mimetype": "text/x-python",
   "name": "python",
   "nbconvert_exporter": "python",
   "pygments_lexer": "ipython3",
   "version": "3.8.10"
  }
 },
 "nbformat": 4,
 "nbformat_minor": 5
}
